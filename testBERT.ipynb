{
 "cells": [
  {
   "cell_type": "code",
   "execution_count": 66,
   "metadata": {
    "collapsed": true,
    "pycharm": {
     "name": "#%%\n"
    }
   },
   "outputs": [
    {
     "ename": "OSError",
     "evalue": "./Models/bert_en_uncased_preprocess_3 does not exist.",
     "output_type": "error",
     "traceback": [
      "\u001B[0;31m---------------------------------------------------------------------------\u001B[0m",
      "\u001B[0;31mOSError\u001B[0m                                   Traceback (most recent call last)",
      "Input \u001B[0;32mIn [66]\u001B[0m, in \u001B[0;36m<cell line: 8>\u001B[0;34m()\u001B[0m\n\u001B[1;32m      4\u001B[0m \u001B[38;5;28;01mimport\u001B[39;00m \u001B[38;5;21;01mtensorflow_hub\u001B[39;00m \u001B[38;5;28;01mas\u001B[39;00m \u001B[38;5;21;01mhub\u001B[39;00m\n\u001B[1;32m      6\u001B[0m shallow_mlp_model \u001B[38;5;241m=\u001B[39m tf\u001B[38;5;241m.\u001B[39mkeras\u001B[38;5;241m.\u001B[39mmodels\u001B[38;5;241m.\u001B[39mload_model(\u001B[38;5;124m\"\u001B[39m\u001B[38;5;124m./Models/workPlzModel1model3\u001B[39m\u001B[38;5;124m\"\u001B[39m)\n\u001B[0;32m----> 8\u001B[0m bert_preprocess \u001B[38;5;241m=\u001B[39m \u001B[43mhub\u001B[49m\u001B[38;5;241;43m.\u001B[39;49m\u001B[43mKerasLayer\u001B[49m\u001B[43m(\u001B[49m\u001B[38;5;124;43m\"\u001B[39;49m\u001B[38;5;124;43m./Models/bert_en_uncased_preprocess_3\u001B[39;49m\u001B[38;5;124;43m\"\u001B[39;49m\u001B[43m)\u001B[49m\n\u001B[1;32m      9\u001B[0m bert_encoder \u001B[38;5;241m=\u001B[39m hub\u001B[38;5;241m.\u001B[39mKerasLayer(\u001B[38;5;124m\"\u001B[39m\u001B[38;5;124m./Models/bert_en_uncased_L-12_H-768_A-12_4\u001B[39m\u001B[38;5;124m\"\u001B[39m)\n",
      "File \u001B[0;32m~/lib/python3.8/site-packages/tensorflow_hub/keras_layer.py:153\u001B[0m, in \u001B[0;36mKerasLayer.__init__\u001B[0;34m(self, handle, trainable, arguments, _sentinel, tags, signature, signature_outputs_as_dict, output_key, output_shape, load_options, **kwargs)\u001B[0m\n\u001B[1;32m    149\u001B[0m   \u001B[38;5;28mself\u001B[39m\u001B[38;5;241m.\u001B[39m_output_shape \u001B[38;5;241m=\u001B[39m data_structures\u001B[38;5;241m.\u001B[39mNoDependency(\n\u001B[1;32m    150\u001B[0m       _convert_nest_to_shapes(output_shape))\n\u001B[1;32m    152\u001B[0m \u001B[38;5;28mself\u001B[39m\u001B[38;5;241m.\u001B[39m_load_options \u001B[38;5;241m=\u001B[39m load_options\n\u001B[0;32m--> 153\u001B[0m \u001B[38;5;28mself\u001B[39m\u001B[38;5;241m.\u001B[39m_func \u001B[38;5;241m=\u001B[39m \u001B[43mload_module\u001B[49m\u001B[43m(\u001B[49m\u001B[43mhandle\u001B[49m\u001B[43m,\u001B[49m\u001B[43m \u001B[49m\u001B[43mtags\u001B[49m\u001B[43m,\u001B[49m\u001B[43m \u001B[49m\u001B[38;5;28;43mself\u001B[39;49m\u001B[38;5;241;43m.\u001B[39;49m\u001B[43m_load_options\u001B[49m\u001B[43m)\u001B[49m\n\u001B[1;32m    154\u001B[0m \u001B[38;5;28mself\u001B[39m\u001B[38;5;241m.\u001B[39m_has_training_argument \u001B[38;5;241m=\u001B[39m func_has_training_argument(\u001B[38;5;28mself\u001B[39m\u001B[38;5;241m.\u001B[39m_func)\n\u001B[1;32m    155\u001B[0m \u001B[38;5;28mself\u001B[39m\u001B[38;5;241m.\u001B[39m_is_hub_module_v1 \u001B[38;5;241m=\u001B[39m \u001B[38;5;28mgetattr\u001B[39m(\u001B[38;5;28mself\u001B[39m\u001B[38;5;241m.\u001B[39m_func, \u001B[38;5;124m\"\u001B[39m\u001B[38;5;124m_is_hub_module_v1\u001B[39m\u001B[38;5;124m\"\u001B[39m, \u001B[38;5;28;01mFalse\u001B[39;00m)\n",
      "File \u001B[0;32m~/lib/python3.8/site-packages/tensorflow_hub/keras_layer.py:449\u001B[0m, in \u001B[0;36mload_module\u001B[0;34m(handle, tags, load_options)\u001B[0m\n\u001B[1;32m    447\u001B[0m   \u001B[38;5;28;01mexcept\u001B[39;00m \u001B[38;5;167;01mImportError\u001B[39;00m:  \u001B[38;5;66;03m# Expected before TF2.4.\u001B[39;00m\n\u001B[1;32m    448\u001B[0m     set_load_options \u001B[38;5;241m=\u001B[39m load_options\n\u001B[0;32m--> 449\u001B[0m \u001B[38;5;28;01mreturn\u001B[39;00m \u001B[43mmodule_v2\u001B[49m\u001B[38;5;241;43m.\u001B[39;49m\u001B[43mload\u001B[49m\u001B[43m(\u001B[49m\u001B[43mhandle\u001B[49m\u001B[43m,\u001B[49m\u001B[43m \u001B[49m\u001B[43mtags\u001B[49m\u001B[38;5;241;43m=\u001B[39;49m\u001B[43mtags\u001B[49m\u001B[43m,\u001B[49m\u001B[43m \u001B[49m\u001B[43moptions\u001B[49m\u001B[38;5;241;43m=\u001B[39;49m\u001B[43mset_load_options\u001B[49m\u001B[43m)\u001B[49m\n",
      "File \u001B[0;32m~/lib/python3.8/site-packages/tensorflow_hub/module_v2.py:92\u001B[0m, in \u001B[0;36mload\u001B[0;34m(handle, tags, options)\u001B[0m\n\u001B[1;32m     90\u001B[0m \u001B[38;5;28;01mif\u001B[39;00m \u001B[38;5;129;01mnot\u001B[39;00m \u001B[38;5;28misinstance\u001B[39m(handle, \u001B[38;5;28mstr\u001B[39m):\n\u001B[1;32m     91\u001B[0m   \u001B[38;5;28;01mraise\u001B[39;00m \u001B[38;5;167;01mValueError\u001B[39;00m(\u001B[38;5;124m\"\u001B[39m\u001B[38;5;124mExpected a string, got \u001B[39m\u001B[38;5;132;01m%s\u001B[39;00m\u001B[38;5;124m\"\u001B[39m \u001B[38;5;241m%\u001B[39m handle)\n\u001B[0;32m---> 92\u001B[0m module_path \u001B[38;5;241m=\u001B[39m \u001B[43mresolve\u001B[49m\u001B[43m(\u001B[49m\u001B[43mhandle\u001B[49m\u001B[43m)\u001B[49m\n\u001B[1;32m     93\u001B[0m is_hub_module_v1 \u001B[38;5;241m=\u001B[39m tf\u001B[38;5;241m.\u001B[39mio\u001B[38;5;241m.\u001B[39mgfile\u001B[38;5;241m.\u001B[39mexists(\n\u001B[1;32m     94\u001B[0m     native_module\u001B[38;5;241m.\u001B[39mget_module_proto_path(module_path))\n\u001B[1;32m     95\u001B[0m \u001B[38;5;28;01mif\u001B[39;00m tags \u001B[38;5;129;01mis\u001B[39;00m \u001B[38;5;28;01mNone\u001B[39;00m \u001B[38;5;129;01mand\u001B[39;00m is_hub_module_v1:\n",
      "File \u001B[0;32m~/lib/python3.8/site-packages/tensorflow_hub/module_v2.py:47\u001B[0m, in \u001B[0;36mresolve\u001B[0;34m(handle)\u001B[0m\n\u001B[1;32m     23\u001B[0m \u001B[38;5;28;01mdef\u001B[39;00m \u001B[38;5;21mresolve\u001B[39m(handle):\n\u001B[1;32m     24\u001B[0m   \u001B[38;5;124;03m\"\"\"Resolves a module handle into a path.\u001B[39;00m\n\u001B[1;32m     25\u001B[0m \n\u001B[1;32m     26\u001B[0m \u001B[38;5;124;03m  This function works both for plain TF2 SavedModels and the legacy TF1 Hub\u001B[39;00m\n\u001B[0;32m   (...)\u001B[0m\n\u001B[1;32m     45\u001B[0m \u001B[38;5;124;03m    A string representing the Module path.\u001B[39;00m\n\u001B[1;32m     46\u001B[0m \u001B[38;5;124;03m  \"\"\"\u001B[39;00m\n\u001B[0;32m---> 47\u001B[0m   \u001B[38;5;28;01mreturn\u001B[39;00m \u001B[43mregistry\u001B[49m\u001B[38;5;241;43m.\u001B[39;49m\u001B[43mresolver\u001B[49m\u001B[43m(\u001B[49m\u001B[43mhandle\u001B[49m\u001B[43m)\u001B[49m\n",
      "File \u001B[0;32m~/lib/python3.8/site-packages/tensorflow_hub/registry.py:51\u001B[0m, in \u001B[0;36mMultiImplRegister.__call__\u001B[0;34m(self, *args, **kwargs)\u001B[0m\n\u001B[1;32m     49\u001B[0m \u001B[38;5;28;01mfor\u001B[39;00m impl \u001B[38;5;129;01min\u001B[39;00m \u001B[38;5;28mreversed\u001B[39m(\u001B[38;5;28mself\u001B[39m\u001B[38;5;241m.\u001B[39m_impls):\n\u001B[1;32m     50\u001B[0m   \u001B[38;5;28;01mif\u001B[39;00m impl\u001B[38;5;241m.\u001B[39mis_supported(\u001B[38;5;241m*\u001B[39margs, \u001B[38;5;241m*\u001B[39m\u001B[38;5;241m*\u001B[39mkwargs):\n\u001B[0;32m---> 51\u001B[0m     \u001B[38;5;28;01mreturn\u001B[39;00m \u001B[43mimpl\u001B[49m\u001B[43m(\u001B[49m\u001B[38;5;241;43m*\u001B[39;49m\u001B[43margs\u001B[49m\u001B[43m,\u001B[49m\u001B[43m \u001B[49m\u001B[38;5;241;43m*\u001B[39;49m\u001B[38;5;241;43m*\u001B[39;49m\u001B[43mkwargs\u001B[49m\u001B[43m)\u001B[49m\n\u001B[1;32m     52\u001B[0m   \u001B[38;5;28;01melse\u001B[39;00m:\n\u001B[1;32m     53\u001B[0m     fails\u001B[38;5;241m.\u001B[39mappend(\u001B[38;5;28mtype\u001B[39m(impl)\u001B[38;5;241m.\u001B[39m\u001B[38;5;18m__name__\u001B[39m)\n",
      "File \u001B[0;32m~/lib/python3.8/site-packages/tensorflow_hub/resolver.py:496\u001B[0m, in \u001B[0;36mPathResolver.__call__\u001B[0;34m(self, handle)\u001B[0m\n\u001B[1;32m    494\u001B[0m \u001B[38;5;28;01mdef\u001B[39;00m \u001B[38;5;21m__call__\u001B[39m(\u001B[38;5;28mself\u001B[39m, handle):\n\u001B[1;32m    495\u001B[0m   \u001B[38;5;28;01mif\u001B[39;00m \u001B[38;5;129;01mnot\u001B[39;00m tf\u001B[38;5;241m.\u001B[39mcompat\u001B[38;5;241m.\u001B[39mv1\u001B[38;5;241m.\u001B[39mgfile\u001B[38;5;241m.\u001B[39mExists(handle):\n\u001B[0;32m--> 496\u001B[0m     \u001B[38;5;28;01mraise\u001B[39;00m \u001B[38;5;167;01mIOError\u001B[39;00m(\u001B[38;5;124m\"\u001B[39m\u001B[38;5;132;01m%s\u001B[39;00m\u001B[38;5;124m does not exist.\u001B[39m\u001B[38;5;124m\"\u001B[39m \u001B[38;5;241m%\u001B[39m handle)\n\u001B[1;32m    497\u001B[0m   \u001B[38;5;28;01mreturn\u001B[39;00m handle\n",
      "\u001B[0;31mOSError\u001B[0m: ./Models/bert_en_uncased_preprocess_3 does not exist."
     ]
    }
   ],
   "source": [
    "import tensorflow as tf\n",
    "import tensorflow\n",
    "import tensorflow_text as text\n",
    "import tensorflow_hub as hub\n",
    "\n",
    "shallow_mlp_model = tf.keras.models.load_model(\"./Models/workPlzModel1model3\")\n",
    "\n",
    "bert_preprocess = hub.KerasLayer(\"./Models/bert_en_uncased_preprocess_3\")\n",
    "bert_encoder = hub.KerasLayer(\"./Models/bert_en_uncased_L-12_H-768_A-12_4\")"
   ]
  },
  {
   "cell_type": "code",
   "execution_count": null,
   "outputs": [],
   "source": [
    "from spacy.lang.en import English\n",
    "from spacy.lang.en.punctuation import ALPHA\n",
    "from spacy.lang.en.stop_words import STOP_WORDS\n",
    "import re\n",
    "\n",
    "model_for_inference = shallow_mlp_model\n",
    "nlp = English()\n",
    "def cleanPlot(qq):\n",
    "    tokenizer = nlp.tokenizer(qq.lower())\n",
    "    tokenizer = \" \".join([str(x) if str(x) not in STOP_WORDS else \"\" for x in tokenizer])\n",
    "    punctuations = '''!()-[]{};:'\"\\,<>./?@#$%^&*_~'''\n",
    "    no_punc = \"\"\n",
    "    for char in tokenizer:\n",
    "        if char not in punctuations:\n",
    "            no_punc = no_punc + char\n",
    "    WHITE_SPACE_PATTERN = re.compile(r' +')\n",
    "    return re.sub(WHITE_SPACE_PATTERN, ' ', no_punc.strip())\n",
    "\n",
    "def test(testText):\n",
    "    #encode = {'Action': 0, 'Fantasy': 1, 'Adventure': 2, 'Kids': 3, 'Drama': 4, 'Sci-Fi': 5, 'Music': 6, 'Shounen': 7, 'Slice of Life': 8, 'Romance': 9} #hardcoded for simplicity. Anyway this model predicts probability only for 10 tags\n",
    "    encode = {'comedy': 0, 'action': 1, 'romance': 2, 'horror': 3, 'thriller': 4, 'western': 5, 'crime': 6, 'adventure': 7, 'musical': 8, 'family': 9}\n",
    "    print(f\"Synopsis: {testText}\")\n",
    "    inference_dataset = tf.data.Dataset.from_tensors(cleanPlot(testText)).batch(1)\n",
    "    text_batch = next(iter(inference_dataset))\n",
    "    predicted_probabilities = model_for_inference.predict(text_batch)\n",
    "\n",
    "    for i, text in enumerate(text_batch[:5]):\n",
    "        predicted_proba = [proba for proba in predicted_probabilities[i]]\n",
    "        top_labels = [(p,x) for p, x in sorted(\n",
    "            zip(predicted_proba, list(encode.keys())),\n",
    "            key=lambda pair: pair[0],\n",
    "            reverse=True,\n",
    "        )\n",
    "                      ]\n",
    "        print(f\"Top 3 predicted Labels:\\n ({', '.join([f'Probability of {label[1]}: {label[0]} ' for label in top_labels[:3]])})\")\n",
    "        print(\" \")\n",
    "\n",
    "def embed(smth):\n",
    "    return bert_encoder(bert_preprocess(smth))['pooled_output']"
   ],
   "metadata": {
    "collapsed": false,
    "pycharm": {
     "name": "#%%\n"
    }
   }
  },
  {
   "cell_type": "code",
   "execution_count": null,
   "outputs": [],
   "source": [
    "t = \"\"\"Washington Delaware Jones (Mantan Moreland) has never done much good for his town, and ultimately he is ordered by a judge to leave for good. In following the judge's order he brings his friend and collaborator Jefferson (F.E. Miller), and the two men go on a search for a new place to live.\\r\\nBoth lack professional experience and start thinking about what kind of jobs they might be apt for. Since they both agree on liking food, they decide on becoming food tasters. When they come to the first destination on the road, they pretend to be food inspectors and start stealing chickens from a farm, but the farmer (Nathan Curry) shoots after them. They meet a man of some wealth named Brown (Harold Garrison), whose car has stopped alongside the road, and his friend Dawson (Jessie Cryer).\\r\\nWhile Brown's chauffeur (Napoleon Whiting) runs along to find gas, the four remaining men start throwing dice. Washington and Jefferson win all the other two have, including the car, and they are driven by the chauffeur to a nearby country club run by Dr. Brutus Blake (Maceo Bruce Sheffield). Blake is a swindler, and when he sees the two men arrive in their elegant car, he decides to take them for what they have. Blake arranges a crap game where outcome is fixed to his advantage. Since Blake's partner Blackstone (Arthur Ray) doesn't approve of his tactics, they argue, and Blackstone threaten to reveal to the guests what Blake is up to.\\r\\nBlake has a thing for the club hostess (Florence O'Brien), and later that night he sees Washington dance with her. He becomes jealous and challenges Washington to a fight. Blake manages to knock himself out during the fight, and when he wakes up he is more determined than ever to take the two guests money.\\r\\nEveryone is unaware that the place is haunted by Blake's dead relatives, and they are quite disappointed with how Blake has turned out. They also regret leaving the place to him in their wills and send one of them, uncle Ezra Dewey, to set Blake straight.\\r\\nThe gambling begins, and soon Washington and Jefferson has won the whole club from Blake through a bet. Ezra finds that the place is just as sinful and decadent under the management of Washington and Jefferson as it was under Blake. The former owners start scheming to get the place back, and deciding to let the local sheriff arrest them for made-up criminal offenses.\\r\\nEzra finds out about Blake's wicked plans and scares him off. All the ghosts then go on to scare off Washington and Jefferson, by haunting the club, and the two men flee for their lives.\n",
    "\"\"\"\n",
    "test(t)"
   ],
   "metadata": {
    "collapsed": false,
    "pycharm": {
     "name": "#%%\n"
    }
   }
  },
  {
   "cell_type": "code",
   "execution_count": 62,
   "outputs": [
    {
     "name": "stdout",
     "output_type": "stream",
     "text": [
      "Synopsis: At the renowned Shuchiin Academy, Miyuki Shirogane and Kaguya Shinomiya are the student body's top representatives. Ranked the top student in the nation and respected by peers and mentors alike, Miyuki serves as the student council president. Alongside him, the vice president Kaguya—eldest daughter of the wealthy Shinomiya family—excels in every field imaginable. They are the envy of the entire student body, regarded as the perfect couple.\n",
      "\n",
      "However, despite both having already developed feelings for the other, neither are willing to admit them. The first to confess loses, will be looked down upon, and will be considered the lesser. With their honor and pride at stake, Miyuki and Kaguya are both equally determined to be the one to emerge victorious on the battlefield of love!\n",
      "Top 3 predicted Labels:\n",
      " (Probability of adventure: 0.3455441892147064 , Probability of romance: 0.3001581132411957 , Probability of comedy: 0.20585787296295166 )\n",
      " \n"
     ]
    }
   ],
   "source": [
    "test(\"\"\"At the renowned Shuchiin Academy, Miyuki Shirogane and Kaguya Shinomiya are the student body's top representatives. Ranked the top student in the nation and respected by peers and mentors alike, Miyuki serves as the student council president. Alongside him, the vice president Kaguya—eldest daughter of the wealthy Shinomiya family—excels in every field imaginable. They are the envy of the entire student body, regarded as the perfect couple.\n",
    "\n",
    "However, despite both having already developed feelings for the other, neither are willing to admit them. The first to confess loses, will be looked down upon, and will be considered the lesser. With their honor and pride at stake, Miyuki and Kaguya are both equally determined to be the one to emerge victorious on the battlefield of love!\"\"\")"
   ],
   "metadata": {
    "collapsed": false,
    "pycharm": {
     "name": "#%%\n"
    }
   }
  },
  {
   "cell_type": "code",
   "execution_count": 64,
   "outputs": [
    {
     "name": "stdout",
     "output_type": "stream",
     "text": [
      "Synopsis: The arrival of nurse Ellen Burton to the Belgian Congo is unwelcome to hunter John \"Lonni\" Douglas (Robert Mitchum), who captures animals for zoos. He warns her against traveling upriver to join a female doctor who is working with native tribesmen.\r\n",
      "Short of money, Lonni is intrigued when partner Huysman (Walter Slezak) tells him there is gold to be found in the region where Ellen will be traveling. Lonni volunteers to accompany her, along with gun bearer Jacques.\r\n",
      "Ellen (Susan Hayward) is a widow who once discouraged her physician husband from his dream of coming to Africa to give medical aid. She talks a witch doctor out of killing a woman with an abscessed tooth. Upset with her, the witch doctor places a deadly tarantula in Ellen's tent.\r\n",
      "The doctor she is there to assist has died of fever. The king is pleased when his son is saved from a lion by Lonni, his wounds treated by Ellen, but then the king takes her hostage when Huysman, heavily armed, arrives to search for gold. Huysman's men knock Lonni unconscious and tie him up, but Jacques sacrifices his own life to save that of Lonni, who returns to Ellen's side for good\n",
      "Top 3 predicted Labels:\n",
      " (Probability of family: 0.5996720194816589 , Probability of action: 0.228365957736969 , Probability of romance: 0.1690574586391449 )\n",
      " \n"
     ]
    }
   ],
   "source": [
    "test(\"\"\"The arrival of nurse Ellen Burton to the Belgian Congo is unwelcome to hunter John \"Lonni\" Douglas (Robert Mitchum), who captures animals for zoos. He warns her against traveling upriver to join a female doctor who is working with native tribesmen.\\r\\nShort of money, Lonni is intrigued when partner Huysman (Walter Slezak) tells him there is gold to be found in the region where Ellen will be traveling. Lonni volunteers to accompany her, along with gun bearer Jacques.\\r\\nEllen (Susan Hayward) is a widow who once discouraged her physician husband from his dream of coming to Africa to give medical aid. She talks a witch doctor out of killing a woman with an abscessed tooth. Upset with her, the witch doctor places a deadly tarantula in Ellen\\'s tent.\\r\\nThe doctor she is there to assist has died of fever. The king is pleased when his son is saved from a lion by Lonni, his wounds treated by Ellen, but then the king takes her hostage when Huysman, heavily armed, arrives to search for gold. Huysman\\'s men knock Lonni unconscious and tie him up, but Jacques sacrifices his own life to save that of Lonni, who returns to Ellen\\'s side for good\"\"\")"
   ],
   "metadata": {
    "collapsed": false,
    "pycharm": {
     "name": "#%%\n"
    }
   }
  },
  {
   "cell_type": "code",
   "execution_count": 65,
   "outputs": [
    {
     "name": "stdout",
     "output_type": "stream",
     "text": [
      "Synopsis: John tries to defeat mafia and learns to use a gun to protect himself. But only pistol is not a way, so hhe should try to find comrades in the mafia.\n",
      "\n",
      "Top 3 predicted Labels:\n",
      " (Probability of romance: 0.2765181064605713 , Probability of comedy: 0.22085535526275635 , Probability of horror: 0.20856410264968872 )\n",
      " \n"
     ]
    }
   ],
   "source": [
    "test(\"\"\"John tries to defeat mafia and learns to use a gun to protect himself. But only pistol is not a way, so hhe should try to find comrades in the mafia.\n",
    "\"\"\")"
   ],
   "metadata": {
    "collapsed": false,
    "pycharm": {
     "name": "#%%\n"
    }
   }
  },
  {
   "cell_type": "code",
   "execution_count": null,
   "outputs": [],
   "source": [],
   "metadata": {
    "collapsed": false,
    "pycharm": {
     "name": "#%%\n"
    }
   }
  }
 ],
 "metadata": {
  "kernelspec": {
   "display_name": "Python 3",
   "language": "python",
   "name": "python3"
  },
  "language_info": {
   "codemirror_mode": {
    "name": "ipython",
    "version": 2
   },
   "file_extension": ".py",
   "mimetype": "text/x-python",
   "name": "python",
   "nbconvert_exporter": "python",
   "pygments_lexer": "ipython2",
   "version": "2.7.6"
  }
 },
 "nbformat": 4,
 "nbformat_minor": 0
}